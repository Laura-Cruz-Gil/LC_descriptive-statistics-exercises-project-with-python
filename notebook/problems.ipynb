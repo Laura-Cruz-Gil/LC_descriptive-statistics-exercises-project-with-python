{
    "cells": [
        {
            "cell_type": "markdown",
            "id": "ac622319",
            "metadata": {},
            "source": [
                "# Descriptive statistics problems"
            ]
        },
        {
            "cell_type": "markdown",
            "id": "5e0ab0d5",
            "metadata": {},
            "source": [
                "### Exercise 1\n",
                "\n",
                "We will use NumPy to obtain information to describe statistically.\n",
                "\n",
                "- Generate an array of 100 elements following a normal distribution.\n",
                "- Generate an array of 100 elements following a chi-square distribution with 3 degrees of freedom.\n",
                "- Calculate the main metrics and statistical measures that best describe the two vectors."
            ]
        },
        {
            "cell_type": "code",
            "execution_count": 1,
            "id": "34720ab6",
            "metadata": {},
            "outputs": [
                {
                    "name": "stdout",
                    "output_type": "stream",
                    "text": [
                        "[ 0.07352032  0.21734667 -0.94021918  0.49788327  1.53619152  0.61787846\n",
                        " -0.65949307  1.068766    0.77314615  0.09798519  0.8130196  -1.29784724\n",
                        "  0.09479342  0.35800542 -0.72838217 -0.04770341  0.53128921 -0.01733082\n",
                        " -0.45976916  1.2497062  -0.4141217  -0.77991237  0.26620449 -0.78431062\n",
                        "  1.41928103 -2.50490545  0.96177209 -2.45659557  1.27740672 -0.67767037\n",
                        " -0.10287101  0.92372279 -0.23488958  0.24389294 -0.81869647  0.01392932\n",
                        " -0.02373391  0.53440606 -0.3057508   0.02141091  0.03763778 -0.00606087\n",
                        " -0.97458903  0.24654853 -0.33231761  2.11976548  0.72477022  0.33158008\n",
                        "  0.22735394  0.26360457  2.18523914  0.43809276 -1.76666355  1.21856948\n",
                        "  0.13250239  0.42792787  0.42265096  0.36500373  1.67795556  1.27647834\n",
                        "  0.6925506   1.39949626  0.56763925 -0.6357911  -0.13521946 -1.214039\n",
                        "  0.41699376  0.93539817  0.01550871 -1.43231749  0.63542092 -0.25966228\n",
                        "  0.45907276  2.00087052  0.49078819  0.0957379   0.33219301 -0.49268636\n",
                        " -0.99449401 -0.76307626  0.24875479 -0.74548845 -1.32049158  0.48450589\n",
                        " -0.07627445  0.60122901  0.15143739  0.32379359  1.10484653 -0.82598557\n",
                        " -0.11557249 -0.52464069 -0.85257656  1.00504476  1.16863433  0.43080529\n",
                        "  2.00418067  1.0910324   0.90635458 -0.97879992]\n",
                        "[11.57167408  2.17958175  0.85316937  3.85573727  3.90588253  0.16451584\n",
                        "  2.20655643  0.26720607  2.03740771  0.45779366  4.96684861  2.05045911\n",
                        "  5.85171684  4.40272907  2.73482272  1.99580199  4.38422199  2.73289424\n",
                        "  2.45500881  0.40521745  2.32556029  2.25059193  0.46120164  1.57693541\n",
                        "  0.8390291   8.79724685  6.12196367  0.6113576  12.5153632   5.49893646\n",
                        "  0.90556183  5.65364875  1.45713068  2.9440093   5.89597939  2.50325369\n",
                        "  2.20524432  5.14361927  0.5372346   2.0678243   2.49264971  4.29413181\n",
                        "  4.98443651  6.14373191  3.12285647  2.000698    1.09026616  1.89353974\n",
                        " 10.69949279  3.30854365  4.65636679  1.33165603  1.10176573  6.43663755\n",
                        "  0.39229748  1.39790547  1.69988422  4.54178664  0.56910453  0.03533048\n",
                        "  1.60256559  2.4711265   1.87899323  1.81032211  1.47673785  6.98672589\n",
                        "  1.24444459  4.57310878  1.47423928  2.89532034  1.25879922  1.70240207\n",
                        "  1.82532081  0.99624251  2.16663015  6.28071949  2.01721597  1.109064\n",
                        "  1.98761562  1.94371274  3.16582356  3.11235088  0.718052    9.01633601\n",
                        "  1.94673178  2.41195099  4.85967577  4.04195777  1.34921134  0.63500103\n",
                        "  2.82217122  3.94747552  1.64195621  2.74284857  5.28237432  2.87399187\n",
                        "  1.58287188  3.68708225  2.71570502  1.04005383]\n"
                    ]
                }
            ],
            "source": [
                "import numpy as np\n",
                "import pandas as pd\n",
                "import matplotlib.pyplot as plt\n",
                "\n",
                "from pylab import *  \n",
                "\n",
                "array_normal= (np.random.randn(100))                       # Genera 100 números de una distribución normal estándar (media 0, desviación 1)\n",
                "#array_normal = np.random.normal(loc=0, scale=1, size=100) # Genera 100 números de una distribución normal con media 0 y desviación estándar 1\n",
                "\n",
                "print(array_normal)\n",
                "\n",
                "array_chi = np.random.chisquare(3, 100)\n",
                "print(array_chi)\n"
            ]
        },
        {
            "cell_type": "code",
            "execution_count": 3,
            "id": "685acb95",
            "metadata": {},
            "outputs": [
                {
                    "name": "stdout",
                    "output_type": "stream",
                    "text": [
                        "MEDIA\n",
                        "Normal media: 0.15548578278242672\n",
                        "Normal media: 0.1554857827824267\n",
                        "Chi media: 2.992789480283008\n",
                        "Chi media: 2.992789480283008\n"
                    ]
                }
            ],
            "source": [
                "import statistics as stats\n",
                "\n",
                "#MEDIA  valores numéricos que describen cómo se centralizan o agrupan los datos en un conjunto\n",
                "print(\"MEDIA\")\n",
                "print(f\"Normal media: {stats.mean(array_normal)}\")\n",
                "print(f\"Normal media: {np.mean(array_normal)}\")\n",
                "\n",
                "print(f\"Chi media: {stats.mean(array_chi)}\")\n",
                "print(f\"Chi media: {np.mean(array_chi)}\")\n",
                "\n",
                "\n"
            ]
        },
        {
            "cell_type": "code",
            "execution_count": 4,
            "id": "ae2d2318",
            "metadata": {},
            "outputs": [
                {
                    "name": "stdout",
                    "output_type": "stream",
                    "text": [
                        "MEDIANA\n",
                        "Normal median: 0.23562344060523663\n",
                        "Normal median: 0.23562344060523663\n",
                        "Chi median: 2.205900376933498\n",
                        "Chi median: 2.205900376933498\n"
                    ]
                }
            ],
            "source": [
                "#MEDIANA  Valor medio cuando los datos están ordenados.\n",
                "print(\"MEDIANA\")\n",
                "print(f\"Normal median: {stats.median(array_normal)}\")\n",
                "print(f\"Normal median: {np.median(array_normal)}\")\n",
                "\n",
                "\n",
                "print(f\"Chi median: {stats.median(array_chi)}\")\n",
                "print(f\"Chi median: {np.median(array_chi)}\")"
            ]
        },
        {
            "cell_type": "code",
            "execution_count": 5,
            "id": "b73995bc",
            "metadata": {},
            "outputs": [
                {
                    "name": "stdout",
                    "output_type": "stream",
                    "text": [
                        "MODA\n",
                        "Normal mode: 0.0735203195111314\n",
                        "Chi mode: 11.571674081918985\n"
                    ]
                }
            ],
            "source": [
                "#MODA   Valor que ocurre con mayor frecuencia.\n",
                "print(\"MODA\")\n",
                "\n",
                "print(f\"Normal mode: {stats.mode(array_normal)}\")\n",
                "print(f\"Chi mode: {stats.mode(array_chi)}\")"
            ]
        },
        {
            "cell_type": "code",
            "execution_count": 7,
            "id": "d2141217",
            "metadata": {},
            "outputs": [
                {
                    "name": "stdout",
                    "output_type": "stream",
                    "text": [
                        "RANGO\n",
                        "Normal range: 4.690144584140038\n",
                        "chi range: 12.480032713975236\n"
                    ]
                }
            ],
            "source": [
                "#RANGO\n",
                "print(\"RANGO\")\n",
                "range_normal = max(array_normal) - min(array_normal)\n",
                "range_chi = max(array_chi) - min(array_chi)\n",
                "print(f\"Normal range: {range_normal}\")\n",
                "print(f\"chi range: {range_chi}\")\n"
            ]
        },
        {
            "cell_type": "code",
            "execution_count": 8,
            "id": "2172e9da",
            "metadata": {},
            "outputs": [
                {
                    "name": "stdout",
                    "output_type": "stream",
                    "text": [
                        "Varianza Normal: 0.8149171168917916\n",
                        "Varianza chi: 5.888781557951729\n"
                    ]
                }
            ],
            "source": [
                "#VARIANZA\n",
                "varianza_normal = stats.variance(array_normal)\n",
                "Varianza_chi= stats.variance(array_chi)\n",
                "print(f\"Varianza Normal: {varianza_normal}\")\n",
                "print(f\"Varianza chi: {Varianza_chi}\")"
            ]
        },
        {
            "cell_type": "code",
            "execution_count": 9,
            "id": "67312533",
            "metadata": {},
            "outputs": [
                {
                    "name": "stdout",
                    "output_type": "stream",
                    "text": [
                        "Desviación estándar normal: 0.9027275983882356\n",
                        "Desviación estándar chi: 2.4266811817689873\n"
                    ]
                }
            ],
            "source": [
                "#DESVIACION ESTANDAR\n",
                "\n",
                "std_normal = stats.stdev(array_normal)\n",
                "std_chi = stats.stdev(array_chi)\n",
                "print(f\"Desviación estándar normal: {std_normal}\")\n",
                "print(f\"Desviación estándar chi: {std_chi}\")"
            ]
        },
        {
            "cell_type": "code",
            "execution_count": 32,
            "id": "66fd7a71",
            "metadata": {},
            "outputs": [
                {
                    "name": "stdout",
                    "output_type": "stream",
                    "text": [
                        "Es una distribución normal sesgada a la izquierda, con valor de -0.2842891618904761\n",
                        "Es una distribución normal sesgada a la derecha, con valor de 1.6930258775745428\n"
                    ]
                },
                {
                    "data": {
                        "text/plain": [
                            "<Axes: ylabel='Density'>"
                        ]
                    },
                    "execution_count": 32,
                    "metadata": {},
                    "output_type": "execute_result"
                },
                {
                    "data": {
                        "image/png": "[encoded data removed]",
                        "text/plain": [
                            "<Figure size 640x480 with 1 Axes>"
                        ]
                    },
                    "metadata": {},
                    "output_type": "display_data"
                }
            ],
            "source": [
                "#MEDIDAS DE FORMA\n",
                "from scipy.stats import skew\n",
                "import matplotlib.pyplot as plt\n",
                "import seaborn as sns\n",
                "\n",
                "skewness_normal = skew(array_normal)\n",
                "if skewness_normal < 0:\n",
                "    print(f\"Es una distribución normal sesgada a la izquierda, con valor de {skewness_normal}\")\n",
                "elif skewness_normal > 0:\n",
                "    print(f\"Es una distribución normal sesgada a la derecha, con valor de {skewness_normal}\")\n",
                "else:\n",
                "    print(f\"Es una distribución normal sin asimetria, con valor de {skewness_normal}\")\n",
                "\n",
                "\n",
                "skewness_chi = skew(array_chi)\n",
                "if skewness_chi < 0:\n",
                "    print(f\"Es una distribución normal sesgada a la izquierda, con valor de {skewness_chi}\")\n",
                "elif skewness_chi > 0:\n",
                "    print(f\"Es una distribución normal sesgada a la derecha, con valor de {skewness_chi}\")\n",
                "else:\n",
                "    print(f\"Es una distribución normal sin asimetria, con valor de {skewness_chi}\")\n",
                "\n",
                "\n",
                "sns.kdeplot(array_normal, color = \"Green\")\n",
                "sns.kdeplot(array_chi,color = \"Red\")\n",
                "\n",
                "\n"
            ]
        },
        {
            "cell_type": "code",
            "execution_count": 18,
            "id": "5843de05",
            "metadata": {},
            "outputs": [
                {
                    "name": "stdout",
                    "output_type": "stream",
                    "text": [
                        "Normal kurtosis: 0.4639417489508606\n",
                        "Chi kurtosis: 3.3058999531567563\n"
                    ]
                }
            ],
            "source": [
                "#KURTOSIS Nos dice cómo de puntiaguda o plana es nuestra distribución normal (o similar a la normal)\n",
                "\n",
                "from scipy.stats import kurtosis\n",
                "\n",
                "kurt_normal = kurtosis(array_normal)\n",
                "print(f\"Normal kurtosis: {kurt_normal}\")\n",
                "\n",
                "kurt_chi = kurtosis(array_chi)\n",
                "print(f\"Chi kurtosis: {kurt_chi}\")\n"
            ]
        },
        {
            "cell_type": "markdown",
            "id": "46c70c3d",
            "metadata": {},
            "source": [
                "### Exercise 2\n",
                "\n",
                "Write a Python program to calculate the standard deviation of the following data:\n",
                "\n",
                "```py\n",
                "data = [4, 2, 5, 8, 6]\n",
                "```"
            ]
        },
        {
            "cell_type": "code",
            "execution_count": 35,
            "id": "d590308e",
            "metadata": {},
            "outputs": [
                {
                    "name": "stdout",
                    "output_type": "stream",
                    "text": [
                        "The standard deviation is: 2.0\n"
                    ]
                },
                {
                    "name": "stderr",
                    "output_type": "stream",
                    "text": [
                        "/tmp/ipykernel_757/1636827478.py:10: DeprecationWarning: Calling np.sum(generator) is deprecated, and in the future will give a different result. Use np.sum(np.fromiter(generator)) or the python sum builtin instead.\n",
                        "  variance = sum((x - mean) ** 2 for x in data) / len(data)\n"
                    ]
                }
            ],
            "source": [
                "import math\n",
                "\n",
                "data = [4, 2, 5, 8, 6]\n",
                "\n",
                "#Paso 1: calcular la media\n",
                "mean = sum(data) / len(data)\n",
                "\n",
                "#Paso 2: calcular la varianza\n",
                "variance = sum((x - mean) ** 2 for x in data) / len(data)\n",
                "\n",
                "#Paso 3: calcular la desviacion estandar\n",
                "standard_deviation = math.sqrt(variance)\n",
                "\n",
                "# Display the result\n",
                "print(\"The standard deviation is:\", standard_deviation)\n",
                "\n",
                "\n",
                "\n"
            ]
        }
    ],
    "metadata": {
        "kernelspec": {
            "display_name": "Python 3",
            "language": "python",
            "name": "python3"
        },
        "language_info": {
            "codemirror_mode": {
                "name": "ipython",
                "version": 3
            },
            "file_extension": ".py",
            "mimetype": "text/x-python",
            "name": "python",
            "nbconvert_exporter": "python",
            "pygments_lexer": "ipython3",
            "version": "3.11.4"
        }
    },
    "nbformat": 4,
    "nbformat_minor": 5
}
